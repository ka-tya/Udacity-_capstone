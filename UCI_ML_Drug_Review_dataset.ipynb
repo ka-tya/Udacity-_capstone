{
  "nbformat": 4,
  "nbformat_minor": 0,
  "metadata": {
    "kernelspec": {
      "display_name": "Python 3",
      "language": "python",
      "name": "python3"
    },
    "language_info": {
      "codemirror_mode": {
        "name": "ipython",
        "version": 3
      },
      "file_extension": ".py",
      "mimetype": "text/x-python",
      "name": "python",
      "nbconvert_exporter": "python",
      "pygments_lexer": "ipython3",
      "version": "3.6.3"
    },
    "colab": {
      "name": "UCI ML Drug Review dataset.ipynb",
      "provenance": [],
      "collapsed_sections": [],
      "include_colab_link": true
    },
    "accelerator": "GPU"
  },
  "cells": [
    {
      "cell_type": "markdown",
      "metadata": {
        "id": "view-in-github",
        "colab_type": "text"
      },
      "source": [
        "<a href=\"https://colab.research.google.com/github/ka-tya/Udacity-_capstone/blob/master/UCI_ML_Drug_Review_dataset.ipynb\" target=\"_parent\"><img src=\"https://colab.research.google.com/assets/colab-badge.svg\" alt=\"Open In Colab\"/></a>"
      ]
    },
    {
      "cell_type": "markdown",
      "metadata": {
        "id": "cWBRsouHUUp2",
        "colab_type": "text"
      },
      "source": [
        "## Capstone Project"
      ]
    },
    {
      "cell_type": "code",
      "metadata": {
        "id": "u_0Ld9oZUUp5",
        "colab_type": "code",
        "colab": {}
      },
      "source": [
        "#import libraries\n",
        "import numpy as np\n",
        "import pandas as pd\n",
        "#for NLP:\n",
        "import spacy\n",
        "#import en_core_web_sm\n",
        "nlp = spacy.load('en_core_web_sm') #vector, pos_tag\n",
        "from spacy.lang.en import English,stop_words # Word tokenization #lemma\n",
        "from spacy import displacy #word viz\n",
        "import string\n",
        "# #for the Pipiline\n",
        "from sklearn.feature_extraction.text import CountVectorizer,TfidfTransformer\n",
        "from sklearn.linear_model import LogisticRegression\n",
        "from sklearn.base import TransformerMixin\n",
        "from sklearn.pipeline import Pipeline\n",
        "from sklearn.model_selection import train_test_split\n",
        "from sklearn.multiclass import OneVsRestClassifier\n",
        "from sklearn.metrics import classification_report\n",
        "from sklearn import svm\n",
        "from sklearn.model_selection import GridSearchCV\n",
        "\n",
        "import keras\n",
        "from keras.models import Sequential\n",
        "from keras.layers.core import Dense, Dropout, Activation\n",
        "from keras.optimizers import SGD\n",
        "from keras.utils import np_utils\n",
        "from gensim.models import Word2Vec\n",
        "\n",
        "from matplotlib import pyplot as plt # viz\n",
        "%matplotlib inline\n",
        "\n",
        "#to display entire text \n",
        "pd.set_option('display.max_colwidth', None)"
      ],
      "execution_count": 0,
      "outputs": []
    },
    {
      "cell_type": "markdown",
      "metadata": {
        "id": "Aql6hMARUUqB",
        "colab_type": "text"
      },
      "source": [
        "### Exploratory Data Review\n",
        "1. Read in the data sets\n",
        "2. What are the columns, dimentions, missing data\n",
        "3. why they were pre-set into test & train: are there any major differences"
      ]
    },
    {
      "cell_type": "code",
      "metadata": {
        "id": "LYGdLMV-UofS",
        "colab_type": "code",
        "outputId": "36f7cca4-8090-4b2c-e851-3736bf2a467f",
        "colab": {
          "base_uri": "https://localhost:8080/",
          "height": 35
        }
      },
      "source": [
        "import os\n",
        "os.getcwd()"
      ],
      "execution_count": 4,
      "outputs": [
        {
          "output_type": "execute_result",
          "data": {
            "text/plain": [
              "'/content'"
            ]
          },
          "metadata": {
            "tags": []
          },
          "execution_count": 4
        }
      ]
    },
    {
      "cell_type": "code",
      "metadata": {
        "id": "zm0JxvQlWKvz",
        "colab_type": "code",
        "colab": {}
      },
      "source": [
        "\n",
        "#COLAB VERSION\n",
        "#!pip install PyDrive\n",
        "\n",
        "from pydrive.auth import GoogleAuth\n",
        "from pydrive.drive import GoogleDrive\n",
        "from google.colab import auth\n",
        "from oauth2client.client import GoogleCredentials\n",
        "\n",
        "auth.authenticate_user()\n",
        "gauth = GoogleAuth()\n",
        "gauth.credentials = GoogleCredentials.get_application_default()\n",
        "drive = GoogleDrive(gauth)\n",
        "#https://drive.google.com/file/d/10Wj8r6jl6ELZQ-4mF-Yd0wesHR9Rs5qR/view?usp=sharing\n",
        "#https://drive.google.com/file/d/19GadXd0G-YNKwVlFqjHQZQKfTi0qbYvZ/view?usp=sharing"
      ],
      "execution_count": 0,
      "outputs": []
    },
    {
      "cell_type": "code",
      "metadata": {
        "id": "Oc2VozwEWX_y",
        "colab_type": "code",
        "colab": {}
      },
      "source": [
        "downloaded = drive.CreateFile({'id':\"10Wj8r6jl6ELZQ-4mF-Yd0wesHR9Rs5qR\"})   # replace the id with id of file you want to access\n",
        "downloaded.GetContentFile('drugsComTest_raw.tsv')        # replace the file name with your file\n",
        "\n",
        "downloaded2 = drive.CreateFile({'id':\"19GadXd0G-YNKwVlFqjHQZQKfTi0qbYvZ\"})\n",
        "downloaded2.GetContentFile('drugsComTrain_raw.tsv')"
      ],
      "execution_count": 0,
      "outputs": []
    },
    {
      "cell_type": "code",
      "metadata": {
        "id": "trrXt_xqUUqC",
        "colab_type": "code",
        "colab": {}
      },
      "source": [
        "#1\n",
        "#Read in the data\n",
        "#convert date into correct format\n",
        "\n",
        "#JUPYTER VERSION\n",
        "train = pd.read_csv('drugsComTrain_raw.tsv', sep='\\t',parse_dates = ['date']) \n",
        "test = pd.read_csv('drugsComTest_raw.tsv', sep='\\t',parse_dates = ['date'])\n",
        "#appears to have an unnamed index column that needs to be dropped\n",
        "del test['Unnamed: 0'], train['Unnamed: 0']"
      ],
      "execution_count": 0,
      "outputs": []
    },
    {
      "cell_type": "code",
      "metadata": {
        "id": "cpogUUUSUUqJ",
        "colab_type": "code",
        "outputId": "d7b9ddc4-f3c0-4ac6-f290-3fd8c090256a",
        "colab": {
          "base_uri": "https://localhost:8080/",
          "height": 601
        }
      },
      "source": [
        "#2\n",
        "train.head()"
      ],
      "execution_count": 9,
      "outputs": [
        {
          "output_type": "execute_result",
          "data": {
            "text/html": [
              "<div>\n",
              "<style scoped>\n",
              "    .dataframe tbody tr th:only-of-type {\n",
              "        vertical-align: middle;\n",
              "    }\n",
              "\n",
              "    .dataframe tbody tr th {\n",
              "        vertical-align: top;\n",
              "    }\n",
              "\n",
              "    .dataframe thead th {\n",
              "        text-align: right;\n",
              "    }\n",
              "</style>\n",
              "<table border=\"1\" class=\"dataframe\">\n",
              "  <thead>\n",
              "    <tr style=\"text-align: right;\">\n",
              "      <th></th>\n",
              "      <th>drugName</th>\n",
              "      <th>condition</th>\n",
              "      <th>review</th>\n",
              "      <th>rating</th>\n",
              "      <th>date</th>\n",
              "      <th>usefulCount</th>\n",
              "    </tr>\n",
              "  </thead>\n",
              "  <tbody>\n",
              "    <tr>\n",
              "      <th>0</th>\n",
              "      <td>Valsartan</td>\n",
              "      <td>Left Ventricular Dysfunction</td>\n",
              "      <td>\"It has no side effect, I take it in combination of Bystolic 5 Mg and Fish Oil\"</td>\n",
              "      <td>9.0</td>\n",
              "      <td>2012-05-20</td>\n",
              "      <td>27</td>\n",
              "    </tr>\n",
              "    <tr>\n",
              "      <th>1</th>\n",
              "      <td>Guanfacine</td>\n",
              "      <td>ADHD</td>\n",
              "      <td>\"My son is halfway through his fourth week of Intuniv. We became concerned when he began this last week, when he started taking the highest dose he will be on. For two days, he could hardly get out of bed, was very cranky, and slept for nearly 8 hours on a drive home from school vacation (very unusual for him.) I called his doctor on Monday morning and she said to stick it out a few days. See how he did at school, and with getting up in the morning. The last two days have been problem free. He is MUCH more agreeable than ever. He is less emotional (a good thing), less cranky. He is remembering all the things he should. Overall his behavior is better. \\r\\nWe have tried many different medications and so far this is the most effective.\"</td>\n",
              "      <td>8.0</td>\n",
              "      <td>2010-04-27</td>\n",
              "      <td>192</td>\n",
              "    </tr>\n",
              "    <tr>\n",
              "      <th>2</th>\n",
              "      <td>Lybrel</td>\n",
              "      <td>Birth Control</td>\n",
              "      <td>\"I used to take another oral contraceptive, which had 21 pill cycle, and was very happy- very light periods, max 5 days, no other side effects. But it contained hormone gestodene, which is not available in US, so I switched to Lybrel, because the ingredients are similar. When my other pills ended, I started Lybrel immediately, on my first day of period, as the instructions said. And the period lasted for two weeks. When taking the second pack- same two weeks. And now, with third pack things got even worse- my third period lasted for two weeks and now it&amp;#039;s the end of the third week- I still have daily brown discharge.\\r\\nThe positive side is that I didn&amp;#039;t have any other side effects. The idea of being period free was so tempting... Alas.\"</td>\n",
              "      <td>5.0</td>\n",
              "      <td>2009-12-14</td>\n",
              "      <td>17</td>\n",
              "    </tr>\n",
              "    <tr>\n",
              "      <th>3</th>\n",
              "      <td>Ortho Evra</td>\n",
              "      <td>Birth Control</td>\n",
              "      <td>\"This is my first time using any form of birth control. I&amp;#039;m glad I went with the patch, I have been on it for 8 months. At first It decreased my libido but that subsided. The only downside is that it made my periods longer (5-6 days to be exact) I used to only have periods for 3-4 days max also made my cramps intense for the first two days of my period, I never had cramps before using birth control. Other than that in happy with the patch\"</td>\n",
              "      <td>8.0</td>\n",
              "      <td>2015-11-03</td>\n",
              "      <td>10</td>\n",
              "    </tr>\n",
              "    <tr>\n",
              "      <th>4</th>\n",
              "      <td>Buprenorphine / naloxone</td>\n",
              "      <td>Opiate Dependence</td>\n",
              "      <td>\"Suboxone has completely turned my life around.  I feel healthier, I&amp;#039;m excelling at my job and I always have money in my pocket and my savings account.  I had none of those before Suboxone and spent years abusing oxycontin.  My paycheck was already spent by the time I got it and I started resorting to scheming and stealing to fund my addiction.  All that is history.  If you&amp;#039;re ready to stop, there&amp;#039;s a good chance that suboxone will put you on the path of great life again.  I have found the side-effects to be minimal compared to oxycontin.  I&amp;#039;m actually sleeping better.   Slight constipation is about it for me.  It truly is amazing. The cost pales in comparison to what I spent on oxycontin.\"</td>\n",
              "      <td>9.0</td>\n",
              "      <td>2016-11-27</td>\n",
              "      <td>37</td>\n",
              "    </tr>\n",
              "  </tbody>\n",
              "</table>\n",
              "</div>"
            ],
            "text/plain": [
              "                   drugName  ... usefulCount\n",
              "0                 Valsartan  ...          27\n",
              "1                Guanfacine  ...         192\n",
              "2                    Lybrel  ...          17\n",
              "3                Ortho Evra  ...          10\n",
              "4  Buprenorphine / naloxone  ...          37\n",
              "\n",
              "[5 rows x 6 columns]"
            ]
          },
          "metadata": {
            "tags": []
          },
          "execution_count": 9
        }
      ]
    },
    {
      "cell_type": "code",
      "metadata": {
        "id": "-h6rhUu0UUqT",
        "colab_type": "code",
        "outputId": "68447998-850b-40fe-91d9-dcc9f8e30855",
        "colab": {
          "base_uri": "https://localhost:8080/",
          "height": 52
        }
      },
      "source": [
        "#shape of train data, columns\n",
        "print(train.shape)\n",
        "train.columns"
      ],
      "execution_count": 10,
      "outputs": [
        {
          "output_type": "stream",
          "text": [
            "(161297, 6)\n"
          ],
          "name": "stdout"
        },
        {
          "output_type": "execute_result",
          "data": {
            "text/plain": [
              "Index(['drugName', 'condition', 'review', 'rating', 'date', 'usefulCount'], dtype='object')"
            ]
          },
          "metadata": {
            "tags": []
          },
          "execution_count": 10
        }
      ]
    },
    {
      "cell_type": "code",
      "metadata": {
        "id": "b73J-_XyUUqd",
        "colab_type": "code",
        "outputId": "ca1fbf8b-0bba-4164-b274-fcfb87bfd622",
        "colab": {
          "base_uri": "https://localhost:8080/",
          "height": 52
        }
      },
      "source": [
        "#shape of test data, columns\n",
        "print(test.shape)\n",
        "test.columns"
      ],
      "execution_count": 11,
      "outputs": [
        {
          "output_type": "stream",
          "text": [
            "(53766, 6)\n"
          ],
          "name": "stdout"
        },
        {
          "output_type": "execute_result",
          "data": {
            "text/plain": [
              "Index(['drugName', 'condition', 'review', 'rating', 'date', 'usefulCount'], dtype='object')"
            ]
          },
          "metadata": {
            "tags": []
          },
          "execution_count": 11
        }
      ]
    },
    {
      "cell_type": "code",
      "metadata": {
        "id": "P-9rPZSVUUqm",
        "colab_type": "code",
        "outputId": "c525eade-72e3-4d1f-947f-69e5bd1922c6",
        "colab": {
          "base_uri": "https://localhost:8080/",
          "height": 243
        }
      },
      "source": [
        "#missing values\n",
        "train.isnull().sum()/train.shape[0],test.isnull().sum()/test.shape[0]\n",
        "\n",
        "# only 0.5% of the data in both sets. \n",
        "# if the drug is available in the data set - the condition can be extrapolated\n",
        "# else with such a small number - it can be exluded"
      ],
      "execution_count": 12,
      "outputs": [
        {
          "output_type": "execute_result",
          "data": {
            "text/plain": [
              "(drugName       0.000000\n",
              " condition      0.005574\n",
              " review         0.000000\n",
              " rating         0.000000\n",
              " date           0.000000\n",
              " usefulCount    0.000000\n",
              " dtype: float64, drugName       0.000000\n",
              " condition      0.005487\n",
              " review         0.000000\n",
              " rating         0.000000\n",
              " date           0.000000\n",
              " usefulCount    0.000000\n",
              " dtype: float64)"
            ]
          },
          "metadata": {
            "tags": []
          },
          "execution_count": 12
        }
      ]
    },
    {
      "cell_type": "code",
      "metadata": {
        "scrolled": true,
        "id": "HgSBq-9XUUqu",
        "colab_type": "code",
        "outputId": "d58dcf20-4345-4580-d467-fdf47e735953",
        "colab": {
          "base_uri": "https://localhost:8080/",
          "height": 69
        }
      },
      "source": [
        "#what drugs are missing conditions are missing and how to resolve it \n",
        "drugNoCond = train[train.condition.isnull()].drugName.unique()\n",
        "print('Drugs with no condition description: ',len(drugNoCond))\n",
        "print('Drugs that have no other records with conditions')\n",
        "len(set(train[train.condition.isnull()].drugName) - set(train.drugName))"
      ],
      "execution_count": 13,
      "outputs": [
        {
          "output_type": "stream",
          "text": [
            "Drugs with no condition description:  258\n",
            "Drugs that have no other records with conditions\n"
          ],
          "name": "stdout"
        },
        {
          "output_type": "execute_result",
          "data": {
            "text/plain": [
              "0"
            ]
          },
          "metadata": {
            "tags": []
          },
          "execution_count": 13
        }
      ]
    },
    {
      "cell_type": "code",
      "metadata": {
        "id": "SsmMgAIXUUqz",
        "colab_type": "code",
        "outputId": "274417fc-6645-4078-9745-e5bf4cf2ea5b",
        "colab": {
          "base_uri": "https://localhost:8080/",
          "height": 35
        }
      },
      "source": [
        "#are there drugs with multiple conditions?\n",
        "train.groupby('drugName').condition.nunique().mean()"
      ],
      "execution_count": 14,
      "outputs": [
        {
          "output_type": "execute_result",
          "data": {
            "text/plain": [
              "2.470896391152503"
            ]
          },
          "metadata": {
            "tags": []
          },
          "execution_count": 14
        }
      ]
    },
    {
      "cell_type": "code",
      "metadata": {
        "id": "HxZjxYI3UUq2",
        "colab_type": "code",
        "outputId": "81412545-1a9f-4bba-fe5e-9de3332c4d94",
        "colab": {
          "base_uri": "https://localhost:8080/",
          "height": 35
        }
      },
      "source": [
        "#create a unique drug - condition list\n",
        "drugCond = train[['drugName','condition']].drop_duplicates()\n",
        "#check how many conditions have the drugs with missing ones\n",
        "drugCond[drugCond.drugName.isin(drugNoCond)].groupby('drugName').condition.count().mean()\n",
        "\n",
        "#cannot replace missing condition"
      ],
      "execution_count": 15,
      "outputs": [
        {
          "output_type": "execute_result",
          "data": {
            "text/plain": [
              "5.0271317829457365"
            ]
          },
          "metadata": {
            "tags": []
          },
          "execution_count": 15
        }
      ]
    },
    {
      "cell_type": "code",
      "metadata": {
        "id": "bIN6m_KSUUq8",
        "colab_type": "code",
        "outputId": "58a45bd1-ea85-4632-930e-8b2a69a43695",
        "colab": {
          "base_uri": "https://localhost:8080/",
          "height": 139
        }
      },
      "source": [
        "#3\n",
        "#what drugs are available in each set\n",
        "print('Drugs in the train set: {}, test set: {}'.format(train.drugName.nunique(),test.drugName.nunique()))\n",
        "#how many reviews per drug on average\n",
        "print('average reviews per drug')\n",
        "print(round(train.groupby('drugName').review.count().mean(),2),',',round(test.groupby('drugName').review.count().mean(),2))\n",
        "\n",
        "#how many intersect in both sets\n",
        "print('Drugs in train not in test: ',len(list(set(train.drugName.unique())-set(test.drugName.unique()))))\n",
        "print('It is ',len(list(set(train.drugName.unique())-set(test.drugName.unique())))/len(train.drugName.unique()),'% of train')\n",
        "print('Drugs in test not in train: ',len(list(set(test.drugName.unique())-set(train.drugName.unique()))))\n",
        "print('It is ',len(list(set(test.drugName.unique())-set(train.drugName.unique())))/len(test.drugName.unique()),'% of test')\n"
      ],
      "execution_count": 16,
      "outputs": [
        {
          "output_type": "stream",
          "text": [
            "Drugs in the train set: 3436, test set: 2637\n",
            "average reviews per drug\n",
            "46.94 , 20.39\n",
            "Drugs in train not in test:  1034\n",
            "It is  0.3009313154831199 % of train\n",
            "Drugs in test not in train:  235\n",
            "It is  0.08911642017444066 % of test\n"
          ],
          "name": "stdout"
        }
      ]
    },
    {
      "cell_type": "code",
      "metadata": {
        "id": "QKqxxqg0UUrA",
        "colab_type": "code",
        "outputId": "f0c519bf-4bd4-4cf1-ccf6-cf4d7c356bf9",
        "colab": {
          "base_uri": "https://localhost:8080/",
          "height": 52
        }
      },
      "source": [
        "#are there any time differences\n",
        "print('train date range: ', train.date.min(), train.date.max())\n",
        "print('test date range: ', test.date.min(), test.date.max())\n",
        "#same"
      ],
      "execution_count": 17,
      "outputs": [
        {
          "output_type": "stream",
          "text": [
            "train date range:  2008-02-24 00:00:00 2017-12-12 00:00:00\n",
            "test date range:  2008-02-25 00:00:00 2017-12-12 00:00:00\n"
          ],
          "name": "stdout"
        }
      ]
    },
    {
      "cell_type": "code",
      "metadata": {
        "scrolled": true,
        "id": "Zxw96NBxUUrF",
        "colab_type": "code",
        "outputId": "5b5e5221-646a-4593-d518-d94dc8501e3c",
        "colab": {
          "base_uri": "https://localhost:8080/",
          "height": 35
        }
      },
      "source": [
        "#that is a weird data split\n",
        "#join it back together\n",
        "#delete the rows with missing condition\n",
        "full_set = pd.concat([train,test])\n",
        "full_set = full_set[~full_set.condition.isnull()]\n",
        "full_set.shape"
      ],
      "execution_count": 4,
      "outputs": [
        {
          "output_type": "execute_result",
          "data": {
            "text/plain": [
              "(213869, 6)"
            ]
          },
          "metadata": {
            "tags": []
          },
          "execution_count": 4
        }
      ]
    },
    {
      "cell_type": "code",
      "metadata": {
        "id": "iLb0_EkfUUrK",
        "colab_type": "code",
        "outputId": "fd37bb06-0320-4b6a-b9fe-82d9f6a6537f",
        "colab": {
          "base_uri": "https://localhost:8080/",
          "height": 52
        }
      },
      "source": [
        "#how many drugs per set\n",
        "print('Total drugs in the set ',full_set.drugName.nunique())\n",
        "print('Total conditions in the set ',full_set.condition.nunique())"
      ],
      "execution_count": 19,
      "outputs": [
        {
          "output_type": "stream",
          "text": [
            "Total drugs in the set  3667\n",
            "Total conditions in the set  916\n"
          ],
          "name": "stdout"
        }
      ]
    },
    {
      "cell_type": "code",
      "metadata": {
        "id": "fEOXjm-kUUrO",
        "colab_type": "code",
        "outputId": "c1f52575-cb73-493f-f15c-968330a04136",
        "colab": {
          "base_uri": "https://localhost:8080/",
          "height": 416
        }
      },
      "source": [
        "#what is the drug count per condition?\n",
        "print('Average drugs per condition ',full_set.groupby('condition').drugName.nunique().mean())\n",
        "full_set.groupby('condition').drugName.nunique().sort_values(ascending = False).head(20)"
      ],
      "execution_count": 20,
      "outputs": [
        {
          "output_type": "stream",
          "text": [
            "Average drugs per condition  10.312227074235809\n"
          ],
          "name": "stdout"
        },
        {
          "output_type": "execute_result",
          "data": {
            "text/plain": [
              "condition\n",
              "Not Listed / Othe                             253\n",
              "Pain                                          219\n",
              "Birth Control                                 181\n",
              "High Blood Pressure                           146\n",
              "Acne                                          127\n",
              "Depression                                    115\n",
              "Rheumatoid Arthritis                          107\n",
              "Diabetes, Type 2                               97\n",
              "Allergic Rhinitis                              95\n",
              "Insomnia                                       85\n",
              "Osteoarthritis                                 84\n",
              "Bipolar Disorde                                82\n",
              "Anxiety                                        81\n",
              "Abnormal Uterine Bleeding                      77\n",
              "Endometriosis                                  64\n",
              "3</span> users found this comment helpful.     62\n",
              "Psoriasis                                      61\n",
              "Migraine                                       60\n",
              "ADHD                                           58\n",
              "4</span> users found this comment helpful.     57\n",
              "Name: drugName, dtype: int64"
            ]
          },
          "metadata": {
            "tags": []
          },
          "execution_count": 20
        }
      ]
    },
    {
      "cell_type": "code",
      "metadata": {
        "id": "flaL7Q5sUUrR",
        "colab_type": "code",
        "outputId": "1c9ba4b0-2354-4045-d3c4-77d6dc62c4cb",
        "colab": {
          "base_uri": "https://localhost:8080/",
          "height": 69
        }
      },
      "source": [
        "#any condition/drug with special characters?\n",
        "#exclude space and fw slash\n",
        "#has ')' and '<' #173 rows\n",
        "print('Percent of error text in condition: ', full_set[(~full_set.condition.str.isalnum())&(~full_set.condition.str.contains('/| |-|,'))].\\\n",
        "                                              shape[0]/full_set.shape[0])\n",
        "print('Percent of \"NOT LISTED\" condition: ', full_set[full_set.condition==\"Not Listed / Othe\"].shape[0]/full_set.shape[0])\n",
        "print('Percent of error text in drug: ', full_set[(~full_set.drugName.str.isalnum())&(~full_set.drugName.str.contains('/| |-|,'))].\\\n",
        "                                              shape[0]/full_set.shape[0])"
      ],
      "execution_count": 21,
      "outputs": [
        {
          "output_type": "stream",
          "text": [
            "Percent of error text in condition:  0.0008089063866198467\n",
            "Percent of \"NOT LISTED\" condition:  0.002768049600456354\n",
            "Percent of error text in drug:  0.0\n"
          ],
          "name": "stdout"
        }
      ]
    },
    {
      "cell_type": "code",
      "metadata": {
        "id": "MHFF6FbyUUrV",
        "colab_type": "code",
        "outputId": "5e7dc590-cee3-4de6-db51-f33ebb1ffdc1",
        "colab": {
          "base_uri": "https://localhost:8080/",
          "height": 87
        }
      },
      "source": [
        "#All the issues will affect further analysis and cannot be fixed \n",
        "#they make up to 2% of the data \n",
        "# delete rows\n",
        "\n",
        "#if condition has special char like ) or <\n",
        "#if condition in \"NOT LISTED\"\n",
        "\n",
        "print(full_set.shape[0])\n",
        "full_set = full_set[~full_set.condition.str.contains('\\<|\\?|\\)|\\(')]\n",
        "print(full_set.shape[0])\n",
        "full_set = full_set[full_set.condition!=\"Not Listed / Othe\"]\n",
        "print(full_set.shape[0])\n",
        "print('final set to initial data is ',full_set.shape[0]/(train.shape[0]+test.shape[0]))"
      ],
      "execution_count": 5,
      "outputs": [
        {
          "output_type": "stream",
          "text": [
            "213869\n",
            "212347\n",
            "211755\n",
            "final set to initial data is  0.9846184606371157\n"
          ],
          "name": "stdout"
        }
      ]
    },
    {
      "cell_type": "code",
      "metadata": {
        "id": "hPkTREARUUrZ",
        "colab_type": "code",
        "colab": {}
      },
      "source": [
        "#create couple of useful columns for visualizations and further analysis\n",
        "full_set.loc[full_set.rating<4,'rating_group']  = '-1'\n",
        "full_set.loc[full_set.rating.between(4,8),'rating_group']  = '0'\n",
        "full_set.loc[full_set.rating>=8,'rating_group']  = '1'\n",
        "\n",
        "full_set['year'] = full_set['date'].dt.year"
      ],
      "execution_count": 0,
      "outputs": []
    },
    {
      "cell_type": "markdown",
      "metadata": {
        "id": "9a1izg03UUrf",
        "colab_type": "text"
      },
      "source": [
        "#### Visual Exploratory Data Analysis*\n",
        "\n",
        "*full set"
      ]
    },
    {
      "cell_type": "code",
      "metadata": {
        "id": "QAAQUyP-UUrg",
        "colab_type": "code",
        "colab": {}
      },
      "source": [
        "#Top 10 reviewed & rated drugs\n",
        "top_drugs = full_set.groupby('drugName').agg({'rating':['count','mean']}).reset_index()\n",
        "top_drugs.columns = ['drugName','rating_count','rating_mean']\n",
        "top_reviewed = top_drugs.sort_values(by = 'rating_count').tail(10)\n",
        "top_rated = top_drugs[top_drugs.rating_count>50].sort_values(by = ['rating_mean']).tail(10)"
      ],
      "execution_count": 0,
      "outputs": []
    },
    {
      "cell_type": "code",
      "metadata": {
        "scrolled": true,
        "id": "IAhoToKzUUrj",
        "colab_type": "code",
        "colab": {}
      },
      "source": [
        "top_reviewed.plot(kind='barh',y='rating_count',x='drugName',color='r',\\\n",
        "                 title = 'Top most reviewed drugs');"
      ],
      "execution_count": 0,
      "outputs": []
    },
    {
      "cell_type": "code",
      "metadata": {
        "scrolled": true,
        "id": "fWuG4hiRUUrm",
        "colab_type": "code",
        "colab": {}
      },
      "source": [
        "top_rated.plot(kind='barh',y='rating_mean',x='drugName',color='b',\\\n",
        "              title = 'Top rated drugs with more than 50 reviews');"
      ],
      "execution_count": 0,
      "outputs": []
    },
    {
      "cell_type": "code",
      "metadata": {
        "id": "0LFQDvByUUrq",
        "colab_type": "code",
        "colab": {}
      },
      "source": [
        "#Top 10 reviewed & rated conditions\n",
        "top_cond = full_set.groupby('condition').agg({'rating':['count','mean']}).reset_index()\n",
        "top_cond.columns = ['condition','rating_count','rating_mean']\n",
        "top_reviewed_cond = top_cond.sort_values(by = 'rating_count').tail(10)\n",
        "top_rated_cond = top_cond[top_cond.rating_count>50].sort_values(by = ['rating_mean']).tail(10)"
      ],
      "execution_count": 0,
      "outputs": []
    },
    {
      "cell_type": "code",
      "metadata": {
        "scrolled": true,
        "id": "4HcL5-6hUUrt",
        "colab_type": "code",
        "colab": {}
      },
      "source": [
        "top_reviewed_cond.plot(kind='barh',y='rating_count',x='condition',color='r',\\\n",
        "                 title = 'Top conditions with most drug reviews');"
      ],
      "execution_count": 0,
      "outputs": []
    },
    {
      "cell_type": "code",
      "metadata": {
        "scrolled": true,
        "id": "Ua0b_tIRUUrx",
        "colab_type": "code",
        "colab": {}
      },
      "source": [
        "top_rated_cond.plot(kind='barh',y='rating_mean',x='condition',color='r',\\\n",
        "                 title = 'Top conditions with highest treatment ratings');"
      ],
      "execution_count": 0,
      "outputs": []
    },
    {
      "cell_type": "code",
      "metadata": {
        "id": "6kuLHOu1UUr0",
        "colab_type": "code",
        "colab": {}
      },
      "source": [
        "#do people tend to leave more negative or positive reviews\n",
        "full_set.groupby('rating_group').review.count()/full_set.shape[0]"
      ],
      "execution_count": 0,
      "outputs": []
    },
    {
      "cell_type": "code",
      "metadata": {
        "scrolled": true,
        "id": "CYIQRq51UUr3",
        "colab_type": "code",
        "colab": {}
      },
      "source": [
        "#rating distro\n",
        "full_set.rating.plot('hist');"
      ],
      "execution_count": 0,
      "outputs": []
    },
    {
      "cell_type": "code",
      "metadata": {
        "id": "sTsJCaoSUUr8",
        "colab_type": "code",
        "colab": {}
      },
      "source": [
        "#correlation btween usefulness and rating\n",
        "plt.scatter(full_set['rating'], full_set['usefulCount'], alpha=0.5, c = full_set['rating_group']);\n",
        "plt.xlabel(\"rating\");\n",
        "plt.ylabel(\"usefulness\");\n",
        "\n",
        "#positive reviews have higher chanse to be considered useful"
      ],
      "execution_count": 0,
      "outputs": []
    },
    {
      "cell_type": "code",
      "metadata": {
        "id": "md7_v2qOUUr_",
        "colab_type": "code",
        "colab": {}
      },
      "source": [
        "#correlation btween usefulness and review length\n",
        "x = full_set['review'].str.len()\n",
        "y = full_set['usefulCount']\n",
        "size = full_set['rating']\n",
        "plt.scatter(x,y,s = size , alpha=0.5); #, c = full_set['rating_group']\n",
        "plt.xlabel(\"log of review char length\");\n",
        "plt.ylabel(\"usefulness\");\n",
        "plt.xscale('log');\n",
        "#seems like too long or too short reviews are less useful\n",
        "#reviews between 100 - 1000 char are most useful - or at least most readable"
      ],
      "execution_count": 0,
      "outputs": []
    },
    {
      "cell_type": "code",
      "metadata": {
        "id": "irf4hbrIUUsD",
        "colab_type": "code",
        "colab": {}
      },
      "source": [
        "# #reviews by year\n",
        "counts = full_set.groupby('year').review.count().reset_index()\n",
        "plt.bar(x = counts['year'], height = counts['review']);\n",
        "plt.title('Review count by year');"
      ],
      "execution_count": 0,
      "outputs": []
    },
    {
      "cell_type": "markdown",
      "metadata": {
        "id": "LbN9rQY6UUsG",
        "colab_type": "text"
      },
      "source": [
        "### Sentiment analysis\n",
        "\n",
        "#### Predict  review/ usefulness based on review"
      ]
    },
    {
      "cell_type": "code",
      "metadata": {
        "id": "ZyesDx7SUUsH",
        "colab_type": "code",
        "colab": {}
      },
      "source": [
        "#there are total 916 conditions - that is quite a lot. how many only have 1?\n",
        "condition_counts = full_set.groupby('condition').drugName.nunique().\\\n",
        "                    sort_values(ascending = False).reset_index().rename(columns = {'drugName':'COUNTS'})"
      ],
      "execution_count": 0,
      "outputs": []
    },
    {
      "cell_type": "code",
      "metadata": {
        "id": "cwLw_LRfUUsM",
        "colab_type": "code",
        "outputId": "e350d543-80b1-44fc-8862-acd8b618138d",
        "colab": {
          "base_uri": "https://localhost:8080/",
          "height": 35
        }
      },
      "source": [
        "condition_counts.shape[0] - condition_counts[condition_counts.COUNTS==1].shape[0]"
      ],
      "execution_count": 8,
      "outputs": [
        {
          "output_type": "execute_result",
          "data": {
            "text/plain": [
              "697"
            ]
          },
          "metadata": {
            "tags": []
          },
          "execution_count": 8
        }
      ]
    },
    {
      "cell_type": "markdown",
      "metadata": {
        "id": "FMaunVWlUUsQ",
        "colab_type": "text"
      },
      "source": [
        "#### Built the model for sentiment analysis\n",
        "####  Evaluating the Model\n",
        "Check few models:\n",
        "1. One vs Rest\n",
        "2. SVC\n",
        "3. Simple NN\n",
        "After the model is trained test data through the pipeline to come up with predictions. \n",
        "\n",
        "<!-- Check performance of the model using such metrics as model’s accuracy, precision, and recall.\n",
        "\n",
        "* *Accuracy* refers to the percentage of the total predictions our model makes that are completely correct.\n",
        "* *Precision* describes the ratio of true positives to true positives plus false positives in our predictions.\n",
        "* *Recall* describes the ratio of true positives to true positives plus false negatives in our predictions. -->"
      ]
    },
    {
      "cell_type": "code",
      "metadata": {
        "id": "ISQrcQXrUUsQ",
        "colab_type": "code",
        "colab": {}
      },
      "source": [
        "#Load stop words\n",
        "stopwords = stop_words.STOP_WORDS\n",
        "# Create our list of punctuation marks\n",
        "punctuations = string.punctuation\n",
        "# Load English tokenizer, tagger, parser, NER and word vectors\n",
        "parser = English()"
      ],
      "execution_count": 0,
      "outputs": []
    },
    {
      "cell_type": "code",
      "metadata": {
        "id": "9UiUc-2_UUsV",
        "colab_type": "code",
        "colab": {}
      },
      "source": [
        "#since we are doing sentiment analysis on review positivity , it makes sence to keep negative stop words\n",
        "stopwords = stopwords - set([\"n't\",'none','not', 'nothing','n‘t', 'n’t', 'no'])"
      ],
      "execution_count": 0,
      "outputs": []
    },
    {
      "cell_type": "code",
      "metadata": {
        "id": "pM1fmq3lUUsY",
        "colab_type": "code",
        "outputId": "e730c4d3-8653-4761-a501-91c3c5acc1c6",
        "colab": {
          "base_uri": "https://localhost:8080/",
          "height": 107
        }
      },
      "source": [
        "full_set.review.head(3)\n",
        "# looks like ' is replaced by &#039; - need to clean"
      ],
      "execution_count": 11,
      "outputs": [
        {
          "output_type": "execute_result",
          "data": {
            "text/plain": [
              "0                                                                                                                                                                                                                                                                                                                                                                                                                                                                                                                                                                                                                                                                                                          \"It has no side effect, I take it in combination of Bystolic 5 Mg and Fish Oil\"\n",
              "1                  \"My son is halfway through his fourth week of Intuniv. We became concerned when he began this last week, when he started taking the highest dose he will be on. For two days, he could hardly get out of bed, was very cranky, and slept for nearly 8 hours on a drive home from school vacation (very unusual for him.) I called his doctor on Monday morning and she said to stick it out a few days. See how he did at school, and with getting up in the morning. The last two days have been problem free. He is MUCH more agreeable than ever. He is less emotional (a good thing), less cranky. He is remembering all the things he should. Overall his behavior is better. \\r\\nWe have tried many different medications and so far this is the most effective.\"\n",
              "2    \"I used to take another oral contraceptive, which had 21 pill cycle, and was very happy- very light periods, max 5 days, no other side effects. But it contained hormone gestodene, which is not available in US, so I switched to Lybrel, because the ingredients are similar. When my other pills ended, I started Lybrel immediately, on my first day of period, as the instructions said. And the period lasted for two weeks. When taking the second pack- same two weeks. And now, with third pack things got even worse- my third period lasted for two weeks and now it&#039;s the end of the third week- I still have daily brown discharge.\\r\\nThe positive side is that I didn&#039;t have any other side effects. The idea of being period free was so tempting... Alas.\"\n",
              "Name: review, dtype: object"
            ]
          },
          "metadata": {
            "tags": []
          },
          "execution_count": 11
        }
      ]
    },
    {
      "cell_type": "code",
      "metadata": {
        "id": "YxV8mBS_UUsc",
        "colab_type": "code",
        "colab": {}
      },
      "source": [
        "#create custom tokennizer\n",
        "def spacy_tokennizer(sent):\n",
        "    #create token object\n",
        "    parsed = parser(sent)\n",
        "    token_list = []\n",
        "    for word in parsed:\n",
        "        # Removing stop words\n",
        "        if (word.is_stop or word.is_punct)==False:\n",
        "            # Lemmatizing each token and converting each token into lowercase\n",
        "            #removing the &#039; combo:\n",
        "            token_list.append(word.lemma_.lower().strip().replace('&#039;',\"'\"))\n",
        "            \n",
        "    # return preprocessed list of tokens\n",
        "    return token_list"
      ],
      "execution_count": 0,
      "outputs": []
    },
    {
      "cell_type": "code",
      "metadata": {
        "id": "D0fUpGA0UUsj",
        "colab_type": "code",
        "colab": {}
      },
      "source": [
        "#split data into test and train\n",
        "X = full_set['review']\n",
        "y = full_set['rating_group']\n",
        "X_train, X_test, y_train, y_test = train_test_split(X, y, test_size=0.3, random_state = 33)"
      ],
      "execution_count": 0,
      "outputs": []
    },
    {
      "cell_type": "markdown",
      "metadata": {
        "collapsed": true,
        "id": "2WoPgArWUUti",
        "colab_type": "text"
      },
      "source": [
        ""
      ]
    },
    {
      "cell_type": "code",
      "metadata": {
        "id": "lIlDCWOqUUsn",
        "colab_type": "code",
        "colab": {}
      },
      "source": [
        "#1 One vs Rest\n",
        "pipeline= Pipeline([\n",
        "            ('vectorizer', CountVectorizer(tokenizer=spacy_tokennizer, ngram_range=(1,4))),\n",
        "            ('tfidf', TfidfTransformer()),\n",
        "            ('classifier', OneVsRestClassifier(LogisticRegression(solver = 'liblinear'))),\n",
        "        ])"
      ],
      "execution_count": 0,
      "outputs": []
    },
    {
      "cell_type": "code",
      "metadata": {
        "id": "mqKLmvhrUUsr",
        "colab_type": "code",
        "outputId": "aa53879d-01e4-43d3-fe5b-b3245018ce93",
        "colab": {
          "base_uri": "https://localhost:8080/",
          "height": 555
        }
      },
      "source": [
        "pipeline.fit(X_train,y_train)"
      ],
      "execution_count": 15,
      "outputs": [
        {
          "output_type": "execute_result",
          "data": {
            "text/plain": [
              "Pipeline(memory=None,\n",
              "         steps=[('vectorizer',\n",
              "                 CountVectorizer(analyzer='word', binary=False,\n",
              "                                 decode_error='strict',\n",
              "                                 dtype=<class 'numpy.int64'>, encoding='utf-8',\n",
              "                                 input='content', lowercase=True, max_df=1.0,\n",
              "                                 max_features=None, min_df=1,\n",
              "                                 ngram_range=(1, 4), preprocessor=None,\n",
              "                                 stop_words=None, strip_accents=None,\n",
              "                                 token_pattern='(?u)\\\\b\\\\w\\\\w+\\\\b',\n",
              "                                 tokenizer=<function spac...\n",
              "                 TfidfTransformer(norm='l2', smooth_idf=True,\n",
              "                                  sublinear_tf=False, use_idf=True)),\n",
              "                ('classifier',\n",
              "                 OneVsRestClassifier(estimator=LogisticRegression(C=1.0,\n",
              "                                                                  class_weight=None,\n",
              "                                                                  dual=False,\n",
              "                                                                  fit_intercept=True,\n",
              "                                                                  intercept_scaling=1,\n",
              "                                                                  l1_ratio=None,\n",
              "                                                                  max_iter=100,\n",
              "                                                                  multi_class='auto',\n",
              "                                                                  n_jobs=None,\n",
              "                                                                  penalty='l2',\n",
              "                                                                  random_state=None,\n",
              "                                                                  solver='liblinear',\n",
              "                                                                  tol=0.0001,\n",
              "                                                                  verbose=0,\n",
              "                                                                  warm_start=False),\n",
              "                                     n_jobs=None))],\n",
              "         verbose=False)"
            ]
          },
          "metadata": {
            "tags": []
          },
          "execution_count": 15
        }
      ]
    },
    {
      "cell_type": "code",
      "metadata": {
        "id": "8evm_eFqUUsw",
        "colab_type": "code",
        "outputId": "bed934be-7cad-4c0d-8493-c0cd47ebdad7",
        "colab": {
          "base_uri": "https://localhost:8080/",
          "height": 191
        }
      },
      "source": [
        "y_pred  = pipeline.predict(X_test)\n",
        "\n",
        "print(classification_report(y_test,y_pred))"
      ],
      "execution_count": 16,
      "outputs": [
        {
          "output_type": "stream",
          "text": [
            "              precision    recall  f1-score   support\n",
            "\n",
            "          -1       0.80      0.67      0.73     14042\n",
            "           0       0.73      0.27      0.40     11249\n",
            "           1       0.77      0.96      0.86     38236\n",
            "\n",
            "    accuracy                           0.78     63527\n",
            "   macro avg       0.77      0.64      0.66     63527\n",
            "weighted avg       0.77      0.78      0.75     63527\n",
            "\n"
          ],
          "name": "stdout"
        }
      ]
    },
    {
      "cell_type": "code",
      "metadata": {
        "id": "k_OcXOgjUUs5",
        "colab_type": "code",
        "colab": {}
      },
      "source": [
        "#2 SVC\n",
        "# param_grid = {'C': [10,100],\n",
        "#               'gamma': [ 0.001, 0.01, 0.1],\n",
        "#               }\n",
        "# clf = GridSearchCV(\n",
        "#     svm.SVC(kernel='rbf', class_weight='balanced'), param_grid)\n",
        "\n",
        "pipeline_svm = Pipeline([\n",
        "            ('vectorizer', CountVectorizer(tokenizer=spacy_tokennizer, ngram_range=(1,4))),\n",
        "            ('tfidf', TfidfTransformer()),\n",
        "            ('classifier', svm.SVC(gamma=0.1, C=100)),\n",
        "        ])\n",
        "#kernels = [‘linear’, ‘rbf’, ‘poly’]\n",
        "#gammas = [0.001, 0.01, 0.1, 1]\n",
        "#cs = [0.1, 1, 10, 100, 1000]"
      ],
      "execution_count": 0,
      "outputs": []
    },
    {
      "cell_type": "code",
      "metadata": {
        "id": "hS6a5B-VUUtD",
        "colab_type": "code",
        "colab": {}
      },
      "source": [
        "pipeline_svm.fit(X_train,y_train)\n",
        "print(\"Best estimator found by grid search:\")\n",
        "#print(pipeline_svm.best_estimator_)"
      ],
      "execution_count": 0,
      "outputs": []
    },
    {
      "cell_type": "code",
      "metadata": {
        "id": "Y3OMy2lnUUtJ",
        "colab_type": "code",
        "colab": {}
      },
      "source": [
        "y_pred_svm  = pipeline_svm.predict(X_test)\n",
        "print(classification_report(y_test,y_pred_svm))"
      ],
      "execution_count": 0,
      "outputs": []
    },
    {
      "cell_type": "code",
      "metadata": {
        "id": "z1jWN_GnT_xj",
        "colab_type": "code",
        "colab": {
          "base_uri": "https://localhost:8080/",
          "height": 384
        },
        "outputId": "0b408189-3860-4511-c992-ccc5e4250e1a"
      },
      "source": [
        "#3 NN\n",
        "#Instead of using pipeline, need to enumeratethe input first\n",
        "X_full = pd.concat([X_train,X_test])\n",
        "tr_shape = X_train.shape[0]\n",
        "print(X_train.shape[0])\n",
        "print(X_full.shape[0])\n",
        "y_full = pd.concat([y_train,y_test])\n",
        "\n",
        "vectorizer = CountVectorizer(binary=True, stop_words=stopwords,\n",
        "                             lowercase=True, max_features=5000)\n",
        "X_onehot = vectorizer.fit_transform(X_full)\n",
        "print(X_onehot.toarray())\n",
        "\n",
        "names_list = vectorizer.get_feature_names()\n",
        "names = [[i] for i in names_list]\n",
        "names = Word2Vec(names, min_count=1)\n",
        "print(len(list(names.wv.vocab)))\n",
        "print(list(names.wv.vocab)[:5])\n",
        "\n",
        "y_onehot= keras.utils.to_categorical(y_full,3)\n",
        "print(y_onehot)"
      ],
      "execution_count": 22,
      "outputs": [
        {
          "output_type": "stream",
          "text": [
            "148228\n",
            "211755\n"
          ],
          "name": "stdout"
        },
        {
          "output_type": "stream",
          "text": [
            "/usr/local/lib/python3.6/dist-packages/sklearn/feature_extraction/text.py:385: UserWarning: Your stop_words may be inconsistent with your preprocessing. Tokenizing the stop words generated tokens ['ll', 've'] not in stop_words.\n",
            "  'stop_words.' % sorted(inconsistent))\n"
          ],
          "name": "stderr"
        },
        {
          "output_type": "stream",
          "text": [
            "[[0 0 0 ... 0 0 0]\n",
            " [0 0 0 ... 0 0 0]\n",
            " [0 0 0 ... 0 0 0]\n",
            " ...\n",
            " [0 0 0 ... 0 0 0]\n",
            " [0 0 0 ... 0 0 0]\n",
            " [0 0 0 ... 0 0 0]]\n",
            "5000\n",
            "['00', '000', '00am', '00pm', '01']\n",
            "[[0. 0. 1.]\n",
            " [1. 0. 0.]\n",
            " [0. 1. 0.]\n",
            " ...\n",
            " [0. 1. 0.]\n",
            " [0. 1. 0.]\n",
            " [1. 0. 0.]]\n"
          ],
          "name": "stdout"
        }
      ]
    },
    {
      "cell_type": "code",
      "metadata": {
        "id": "dyI0spALsNHY",
        "colab_type": "code",
        "colab": {}
      },
      "source": [
        ""
      ],
      "execution_count": 0,
      "outputs": []
    },
    {
      "cell_type": "code",
      "metadata": {
        "id": "8b3CIxpxUUtS",
        "colab_type": "code",
        "colab": {
          "base_uri": "https://localhost:8080/",
          "height": 399
        },
        "outputId": "9cc583a7-5b81-4615-8b2f-50aea7fce355"
      },
      "source": [
        "\n",
        "# # Separate data and one-hot encode the output\n",
        "# # Note: We're also turning the data into numpy arrays, in order to train the model in Keras\n",
        "X_train = X_onehot[:tr_shape]\n",
        "X_test = X_onehot[tr_shape:]\n",
        "y_train = y_onehot[:tr_shape]\n",
        "y_test = y_onehot[tr_shape:]\n",
        "\n",
        "features = np.array(X_train)\n",
        "targets = np.array(y_train)\n",
        "features_test = np.array(X_test)\n",
        "targets_test = np.array(y_test)\n",
        "\n",
        "model = Sequential()\n",
        "model.add(Dense(64,  input_shape=(X_train.shape[1],)))\n",
        "model.add(Activation('relu'))\n",
        "model.add(Dropout(0.2))\n",
        "model.add(Dense(32))\n",
        "model.add(Activation('relu'))\n",
        "model.add(Dropout(0.1))\n",
        "model.add(Dense(3, activation='softmax'))\n",
        "\n",
        "# Compiling the model\n",
        "model.compile(loss = 'categorical_crossentropy', optimizer='adamax', metrics=['accuracy'])\n",
        "model.summary()"
      ],
      "execution_count": 35,
      "outputs": [
        {
          "output_type": "stream",
          "text": [
            "Model: \"sequential_5\"\n",
            "_________________________________________________________________\n",
            "Layer (type)                 Output Shape              Param #   \n",
            "=================================================================\n",
            "dense_11 (Dense)             (None, 64)                320064    \n",
            "_________________________________________________________________\n",
            "activation_8 (Activation)    (None, 64)                0         \n",
            "_________________________________________________________________\n",
            "dropout_7 (Dropout)          (None, 64)                0         \n",
            "_________________________________________________________________\n",
            "dense_12 (Dense)             (None, 32)                2080      \n",
            "_________________________________________________________________\n",
            "activation_9 (Activation)    (None, 32)                0         \n",
            "_________________________________________________________________\n",
            "dropout_8 (Dropout)          (None, 32)                0         \n",
            "_________________________________________________________________\n",
            "dense_13 (Dense)             (None, 3)                 99        \n",
            "=================================================================\n",
            "Total params: 322,243\n",
            "Trainable params: 322,243\n",
            "Non-trainable params: 0\n",
            "_________________________________________________________________\n"
          ],
          "name": "stdout"
        }
      ]
    },
    {
      "cell_type": "code",
      "metadata": {
        "id": "PEtPZSFUllfh",
        "colab_type": "code",
        "colab": {
          "base_uri": "https://localhost:8080/",
          "height": 52
        },
        "outputId": "c6d514ee-7e52-429f-9498-abd77e89bed7"
      },
      "source": [
        "# Training the model\n",
        "model.fit(X_train, y_train, epochs=200, batch_size=5000, verbose=0)\n",
        "\n",
        "score = model.evaluate(X_train, y_train, verbose=0)\n",
        "print(\"TRAIN Accuracy: \", score[1])\n",
        "\n",
        " ## 6. Evaluating the model\n",
        " #This will give you the accuracy of the model, as evaluated on the testing set. Can you get something over 85%?\n",
        "\n",
        "score = model.evaluate(X_test, y_test, verbose=0)\n",
        "print(\"TEST Accuracy: \", score[1])"
      ],
      "execution_count": 36,
      "outputs": [
        {
          "output_type": "stream",
          "text": [
            "TRAIN Accuracy:  0.9986979365348816\n",
            "TEST Accuracy:  0.8628771901130676\n"
          ],
          "name": "stdout"
        }
      ]
    },
    {
      "cell_type": "markdown",
      "metadata": {
        "id": "DAw8H8AgUUtj",
        "colab_type": "text"
      },
      "source": [
        "### Classification: Predict patient condition based on the review\n"
      ]
    }
  ]
}